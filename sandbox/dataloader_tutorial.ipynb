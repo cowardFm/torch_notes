{
  "nbformat": 4,
  "nbformat_minor": 0,
  "metadata": {
    "colab": {
      "name": "dataloader_tutorial.ipynb",
      "provenance": [],
      "collapsed_sections": [],
      "authorship_tag": "ABX9TyPr9PWslzeTTv8ejM+BGtlq",
      "include_colab_link": true
    },
    "kernelspec": {
      "name": "python3",
      "display_name": "Python 3"
    },
    "language_info": {
      "name": "python"
    }
  },
  "cells": [
    {
      "cell_type": "markdown",
      "metadata": {
        "id": "view-in-github",
        "colab_type": "text"
      },
      "source": [
        "<a href=\"https://colab.research.google.com/github/cowardFm/torch_notes/blob/main/sandbox/dataloader_tutorial.ipynb\" target=\"_parent\"><img src=\"https://colab.research.google.com/assets/colab-badge.svg\" alt=\"Open In Colab\"/></a>"
      ]
    },
    {
      "cell_type": "markdown",
      "source": [
        "# データローダーを自分で書こう！"
      ],
      "metadata": {
        "id": "CjKYSsBaGmY1"
      }
    },
    {
      "cell_type": "markdown",
      "source": [
        "\n",
        "まずは画像を扱う人用のデータローダーです．\n",
        "\n",
        "読み取る画像のpathを持ったリスト，正解のラベルがあるとします．\n",
        "例えばこんな感じ\n",
        "\n",
        "```python\n",
        "data = [\n",
        "    \"./img1.png\",\n",
        "    \"./img2.png\",\n",
        "    ...\n",
        "]\n",
        "\n",
        "label = [1, 0, ...]\n",
        "```\n",
        "こんな時にデータローダーを書きたいと思った場合，（コード作者の知る限り）まずはdatasetクラスを書く必要があります．\n",
        "\n",
        "実際に書くと下のような感じ．"
      ],
      "metadata": {
        "id": "OCC7BUyJFtsd"
      }
    },
    {
      "cell_type": "code",
      "execution_count": null,
      "metadata": {
        "id": "gi0kPPEIFh11"
      },
      "outputs": [],
      "source": [
        "import torch\n",
        "\n",
        "class mydatasets(torch.utils.data.Dataset):\n",
        "    def __init__(self, data, labels, transforms=None):\n",
        "        self.data = data                        # データはdataという変数に格納されます．\n",
        "        self.label = labels                     # ラベルはlabelという変数に．\n",
        "        self.datanum = len(self.data)           # コレを設定すると，総データ数をdataloaderが管理してくれます．\n",
        "        self.transforms = transforms            # data augmentation(データ拡張)の設定を保存．\n",
        "        \n",
        "    def __len__(self):\n",
        "        return self.datanum\n",
        "    \n",
        "    def __getitem__(self, idx):  # 読み出し用の関数です．\n",
        "        out_data = Image.fromarray(self.data[idx]) # データ読み取り\n",
        "        out_label = self.label[idx]\n",
        "        if self.transforms:\n",
        "            out_data = self.transforms(out_data)\n",
        "        return out_data, out_label"
      ]
    },
    {
      "cell_type": "markdown",
      "source": [
        "データは変数dataに保存していますが，別の名前でも構いません．\n",
        "self.datanumで返す値さえ間違えなければなんでもいいです．\n",
        "\n",
        "そのあと，datasetをインスタンス化して，Dataloaderクラスでパッケージすればよしなに使えます．\n",
        "```python\n",
        "dataset = mydatasets(data=data, label=label)\n",
        "dataloader = torch.utils.data.DataLoader\n",
        "```\n",
        "こんな感じです．"
      ],
      "metadata": {
        "id": "levsjBNsHKFe"
      }
    },
    {
      "cell_type": "markdown",
      "source": [
        "# データがarrayとして保存されてる場合\n",
        "(工事中)\n",
        "\n",
        "上の読み出し用関数\n",
        "```pytnon\n",
        "def __getitem__()\n",
        "```\n",
        "を書き換えれば大丈夫です．"
      ],
      "metadata": {
        "id": "iXDorg38GoCY"
      }
    },
    {
      "cell_type": "code",
      "source": [
        "import torch\n",
        "\n",
        "class mydatasets(torch.utils.data.Dataset):\n",
        "    def __init__(self, data, labels, transforms=None):\n",
        "        self.data = data                        # データはdataという変数に格納されます．\n",
        "        self.label = labels                     # ラベルはlabelという変数に．\n",
        "        self.datanum = len(self.data)           # コレを設定すると，総データ数をdataloaderが管理してくれます．\n",
        "        self.transforms = transforms            # data augmentation(データ拡張)の設定を保存．\n",
        "        \n",
        "    def __len__(self):\n",
        "        return self.datanum\n",
        "    \n",
        "    def __getitem__(self, idx):  # 読み出し用の関数です．\n",
        "        out_data = self.data[idx] # データ読み取り\n",
        "        out_label = self.label[idx]\n",
        "        if self.transforms:\n",
        "            out_data = self.transforms(out_data)\n",
        "        return out_data, out_label"
      ],
      "metadata": {
        "id": "H9S5nT_xGucO"
      },
      "execution_count": null,
      "outputs": []
    },
    {
      "cell_type": "markdown",
      "source": [
        "ただし，arrayの形式には注意しましょう．\n",
        "torch.tensorでない場合はエラーが起きた筈です．\n",
        "これは出てきた要素をtorch.tensorである前提で，Dataloaderクラスがtorch.stackやらなんやらでバッチ化しようとするためです．\n",
        "\n",
        "余談ですが，dataにcudaメモリ上のデータを渡すこともできます．\n",
        "getitem内でもcudaメモリへの移行ができます．\n",
        "その場合，データ拡張を含めた前処理をGPUで済ませる事ができます．非常に高速です．"
      ],
      "metadata": {
        "id": "zGMjg97hIN6g"
      }
    },
    {
      "cell_type": "code",
      "source": [
        ""
      ],
      "metadata": {
        "id": "tMf7bp9NI310"
      },
      "execution_count": null,
      "outputs": []
    }
  ]
}